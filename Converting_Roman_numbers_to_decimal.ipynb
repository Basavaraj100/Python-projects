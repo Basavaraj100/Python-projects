{
 "cells": [
  {
   "cell_type": "markdown",
   "id": "preliminary-yeast",
   "metadata": {},
   "source": [
    "### Converting Roman numbers int decimals"
   ]
  },
  {
   "cell_type": "markdown",
   "id": "widespread-moore",
   "metadata": {},
   "source": [
    ">Base numbers are not the numbers that are used by the Romans as they have count values such as I: 1, V: 5, X: 10, C: 100, D: 500, M: 1000, etc.<br>\n"
   ]
  },
  {
   "cell_type": "markdown",
   "id": "sexual-bowling",
   "metadata": {},
   "source": [
    "So we need to follow the above logic to write a program to convert roman numbers to decimals with Python. So let’s have a look at the process of converting roman numbers to decimals:<br>\n",
    "\n",
    "Work your way through the string of Roman numerals from left to right, examining two adjacent characters at a time. If you want then you can also specify that the direction of loops, but it does not matter as long as the comparisons are implemented accordingly.<br>\n",
    "If the value on the left is higher than the value on the right, then subtract the count at that position from the final value. Otherwise, just add it.<br>\n",
    "Once the process is complete, the final value is the decimal value equivalent of the roman number.<br>"
   ]
  },
  {
   "cell_type": "code",
   "execution_count": 1,
   "id": "specific-doubt",
   "metadata": {},
   "outputs": [],
   "source": [
    "tallies = {\n",
    "    'I': 1,\n",
    "    'V': 5,\n",
    "    'X': 10,\n",
    "    'L': 50,\n",
    "    'C': 100,\n",
    "    'D': 500,\n",
    "    'M': 1000,\n",
    "    # specify more numerals if you wish\n",
    "}\n",
    "\n",
    "def RomanNumeralToDecimal(romanNumeral):\n",
    "    sum = 0\n",
    "    for i in range(len(romanNumeral) - 1):\n",
    "        left = romanNumeral[i]\n",
    "        right = romanNumeral[i + 1]\n",
    "        if tallies[left] < tallies[right]:\n",
    "            sum -= tallies[left]\n",
    "        else:\n",
    "            sum += tallies[left]\n",
    "    sum += tallies[romanNumeral[-1]]\n",
    "    return sum\n",
    "\n",
    "print(RomanNumeralToDecimal('XI'))"
   ]
  },
  {
   "cell_type": "code",
   "execution_count": 3,
   "id": "fluid-singing",
   "metadata": {},
   "outputs": [
    {
     "name": "stdout",
     "output_type": "stream",
     "text": [
      "11\n"
     ]
    }
   ],
   "source": [
    "print(RomanNumeralToDecimal('XI'))"
   ]
  },
  {
   "cell_type": "code",
   "execution_count": null,
   "id": "optimum-algeria",
   "metadata": {},
   "outputs": [],
   "source": []
  }
 ],
 "metadata": {
  "kernelspec": {
   "display_name": "Python 3",
   "language": "python",
   "name": "python3"
  },
  "language_info": {
   "codemirror_mode": {
    "name": "ipython",
    "version": 3
   },
   "file_extension": ".py",
   "mimetype": "text/x-python",
   "name": "python",
   "nbconvert_exporter": "python",
   "pygments_lexer": "ipython3",
   "version": "3.9.2"
  }
 },
 "nbformat": 4,
 "nbformat_minor": 5
}
