{
 "cells": [
  {
   "cell_type": "markdown",
   "id": "worse-latvia",
   "metadata": {},
   "source": [
    "### Email slicer using python"
   ]
  },
  {
   "cell_type": "markdown",
   "id": "human-coast",
   "metadata": {},
   "source": [
    "* An Email slicer is a very useful program for separating the username and domain name of an email address. In this article, I will explain how to write a program to create an Email Slicer with Python."
   ]
  },
  {
   "cell_type": "code",
   "execution_count": 2,
   "id": "liberal-officer",
   "metadata": {},
   "outputs": [
    {
     "name": "stdout",
     "output_type": "stream",
     "text": [
      "bijali@iitkgp\n",
      " Your name is \"bijali\" and your domain is \"iitkgp\"\n"
     ]
    }
   ],
   "source": [
    "email=input().strip()\n",
    "username=email[:email.index('@')]\n",
    "domain_name=email[email.index('@')+1:]\n",
    "print(f' Your name is \"{username}\" and your domain is \"{domain_name}\"')"
   ]
  },
  {
   "cell_type": "code",
   "execution_count": null,
   "id": "useful-warren",
   "metadata": {},
   "outputs": [],
   "source": []
  }
 ],
 "metadata": {
  "kernelspec": {
   "display_name": "Python 3",
   "language": "python",
   "name": "python3"
  },
  "language_info": {
   "codemirror_mode": {
    "name": "ipython",
    "version": 3
   },
   "file_extension": ".py",
   "mimetype": "text/x-python",
   "name": "python",
   "nbconvert_exporter": "python",
   "pygments_lexer": "ipython3",
   "version": "3.9.2"
  }
 },
 "nbformat": 4,
 "nbformat_minor": 5
}
