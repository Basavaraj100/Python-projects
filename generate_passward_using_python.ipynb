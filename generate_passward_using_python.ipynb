{
 "cells": [
  {
   "cell_type": "markdown",
   "id": "critical-placement",
   "metadata": {},
   "source": [
    "### Pyhton program to generate passward"
   ]
  },
  {
   "cell_type": "markdown",
   "id": "greenhouse-whale",
   "metadata": {},
   "source": [
    "* To write a Python program to create a password, declare a string of numbers + uppercase + lowercase + special characters. Take a random sample of the string of a length given by the user:"
   ]
  },
  {
   "cell_type": "code",
   "execution_count": 10,
   "id": "proprietary-gathering",
   "metadata": {},
   "outputs": [
    {
     "name": "stdout",
     "output_type": "stream",
     "text": [
      "9\n",
      "J@e*?rFOa\n"
     ]
    }
   ],
   "source": [
    "import string\n",
    "import random\n",
    "passlen=int(input())\n",
    "letter_list=string.ascii_letters+string.punctuation\n",
    "passward=''.join(random.sample(letter_list,passlen))\n",
    "print(passward)"
   ]
  },
  {
   "cell_type": "code",
   "execution_count": null,
   "id": "angry-orleans",
   "metadata": {},
   "outputs": [],
   "source": []
  },
  {
   "cell_type": "code",
   "execution_count": null,
   "id": "worst-programming",
   "metadata": {},
   "outputs": [],
   "source": []
  }
 ],
 "metadata": {
  "kernelspec": {
   "display_name": "Python 3",
   "language": "python",
   "name": "python3"
  },
  "language_info": {
   "codemirror_mode": {
    "name": "ipython",
    "version": 3
   },
   "file_extension": ".py",
   "mimetype": "text/x-python",
   "name": "python",
   "nbconvert_exporter": "python",
   "pygments_lexer": "ipython3",
   "version": "3.9.2"
  }
 },
 "nbformat": 4,
 "nbformat_minor": 5
}
