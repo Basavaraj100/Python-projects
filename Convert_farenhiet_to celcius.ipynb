{
 "cells": [
  {
   "cell_type": "markdown",
   "id": "legitimate-jimmy",
   "metadata": {},
   "source": [
    "### Convert Farenheit to celcius"
   ]
  },
  {
   "cell_type": "markdown",
   "id": "sufficient-jordan",
   "metadata": {},
   "source": [
    ">Calculating temperature conversion is simple. We have to convert the temperature because Celsius and Fahrenheit have different starting points; 0 degrees Celsius is 32 degrees Fahrenheit. So to convert Fahrenheit to degrees Celsius, we just need to subtract 32 from the temperature Fahrenheit.<br>\n",
    "Sometimes the size of the units is also different. Celsius divides the temperature range between the freezing and boiling points of water is 100 degrees, while Fahrenheit divides this range into 180 degrees, so I will also multiply the value by 5/9 to convert 180 degrees into 100.<br>"
   ]
  },
  {
   "cell_type": "code",
   "execution_count": null,
   "id": "quantitative-diploma",
   "metadata": {},
   "outputs": [],
   "source": []
  }
 ],
 "metadata": {
  "kernelspec": {
   "display_name": "Python 3",
   "language": "python",
   "name": "python3"
  },
  "language_info": {
   "codemirror_mode": {
    "name": "ipython",
    "version": 3
   },
   "file_extension": ".py",
   "mimetype": "text/x-python",
   "name": "python",
   "nbconvert_exporter": "python",
   "pygments_lexer": "ipython3",
   "version": "3.9.2"
  }
 },
 "nbformat": 4,
 "nbformat_minor": 5
}
