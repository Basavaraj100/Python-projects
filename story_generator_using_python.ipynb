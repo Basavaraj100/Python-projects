{
 "cells": [
  {
   "cell_type": "markdown",
   "id": "broken-liechtenstein",
   "metadata": {},
   "source": [
    "### Story generator using python"
   ]
  },
  {
   "cell_type": "markdown",
   "id": "involved-thought",
   "metadata": {},
   "source": [
    "* Do you think the most complex use of the random module in Python is random sampling? No, we can also generate random stories or anything beyond that using the random module. Let's walk you through how to create a story generator with Python."
   ]
  },
  {
   "cell_type": "code",
   "execution_count": null,
   "id": "empirical-vector",
   "metadata": {},
   "outputs": [],
   "source": [
    "import random\n",
    "when = ['A few years ago', 'Yesterday', 'Last night', 'A long time ago','On 20th Jan']\n",
    "who = ['a rabbit', 'an elephant', 'a mouse', 'a turtle','a cat']\n",
    "name = ['Ali', 'Miriam','daniel', 'Hoouk', 'Starwalker']\n",
    "residence = ['Barcelona','India', 'Germany', 'Venice', 'England']\n",
    "went = ['cinema', 'university','seminar', 'school', 'laundry']\n",
    "happened = ['made a lot of friends','Eats a burger', 'found a secret key', 'solved a mistery', 'wrote a book']\n",
    "print(random.choice(when) + ', ' + random.choice(who) + ' that lived in ' + random.choice(residence) + ', went to the ' + random.choice(went) + ' and ' + random.choice(happened))"
   ]
  }
 ],
 "metadata": {
  "kernelspec": {
   "display_name": "Python 3",
   "language": "python",
   "name": "python3"
  },
  "language_info": {
   "codemirror_mode": {
    "name": "ipython",
    "version": 3
   },
   "file_extension": ".py",
   "mimetype": "text/x-python",
   "name": "python",
   "nbconvert_exporter": "python",
   "pygments_lexer": "ipython3",
   "version": "3.9.2"
  }
 },
 "nbformat": 4,
 "nbformat_minor": 5
}
