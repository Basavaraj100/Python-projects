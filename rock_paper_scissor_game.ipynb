{
 "cells": [
  {
   "cell_type": "markdown",
   "id": "answering-designer",
   "metadata": {},
   "source": [
    "### Rock, Paper and Scissors Game with Python"
   ]
  },
  {
   "cell_type": "markdown",
   "id": "instructional-turner",
   "metadata": {},
   "source": [
    "* To create the Rock, Paper and Scissors game with Python, we need to take the user’s choice and then we need to compare it with the computer choice which is taken using the random module in Python from a list of choices, and if the user wins then the score will increase by 1:\n",
    "\n"
   ]
  },
  {
   "cell_type": "code",
   "execution_count": 3,
   "id": "pending-disposal",
   "metadata": {},
   "outputs": [
    {
     "name": "stdout",
     "output_type": "stream",
     "text": [
      "Rock, Paper or  Scissors?rock\n",
      "You lose! Paper covers Rock\n",
      "Rock, Paper or  Scissors?rock\n",
      "You win! Rock smashes Scissors\n",
      "Rock, Paper or  Scissors?scissor\n",
      "Rock, Paper or  Scissors?scissors\n",
      "Tie!\n",
      "Rock, Paper or  Scissors?end\n",
      "Final Scores:\n",
      "CPU:1\n",
      "Player:1\n"
     ]
    }
   ],
   "source": [
    "import random\n",
    "choices = [\"Rock\", \"Paper\", \"Scissors\"]\n",
    "computer = random.choice(choices)\n",
    "player = False\n",
    "cpu_score = 0\n",
    "player_score = 0\n",
    "while True:\n",
    "    computer = random.choice(choices)\n",
    "    player = input(\"Rock, Paper or  Scissors?\").capitalize()\n",
    "    ## Conditions of Rock,Paper and Scissors\n",
    "    if player == computer:\n",
    "        print(\"Tie!\")\n",
    "    elif player == \"Rock\":\n",
    "        if computer == \"Paper\":\n",
    "            print(\"You lose!\", computer, \"covers\", player)\n",
    "            cpu_score+=1\n",
    "        else:\n",
    "            print(\"You win!\", player, \"smashes\", computer)\n",
    "            player_score+=1\n",
    "    elif player == \"Paper\":\n",
    "        if computer == \"Scissors\":\n",
    "            print(\"You lose!\", computer, \"cut\", player)\n",
    "            cpu_score+=1\n",
    "        else:\n",
    "            print(\"You win!\", player, \"covers\", computer)\n",
    "            player_score+=1\n",
    "    elif player == \"Scissors\":\n",
    "        if computer == \"Rock\":\n",
    "            print(\"You lose...\", computer, \"smashes\", player)\n",
    "            cpu_score+=1\n",
    "        else:\n",
    "            print(\"You win!\", player, \"cut\", computer)\n",
    "            player_score+=1\n",
    "    elif player=='End':\n",
    "        print(\"Final Scores:\")\n",
    "        print(f\"CPU:{cpu_score}\")\n",
    "        print(f\"Player:{player_score}\")\n",
    "        break"
   ]
  },
  {
   "cell_type": "code",
   "execution_count": null,
   "id": "monthly-strengthening",
   "metadata": {},
   "outputs": [],
   "source": []
  }
 ],
 "metadata": {
  "kernelspec": {
   "display_name": "Python 3",
   "language": "python",
   "name": "python3"
  },
  "language_info": {
   "codemirror_mode": {
    "name": "ipython",
    "version": 3
   },
   "file_extension": ".py",
   "mimetype": "text/x-python",
   "name": "python",
   "nbconvert_exporter": "python",
   "pygments_lexer": "ipython3",
   "version": "3.9.2"
  }
 },
 "nbformat": 4,
 "nbformat_minor": 5
}
